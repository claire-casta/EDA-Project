{
 "cells": [
  {
   "cell_type": "markdown",
   "metadata": {},
   "source": [
    "# EDA Data Finance Project"
   ]
  },
  {
   "cell_type": "markdown",
   "metadata": {},
   "source": [
    "### Import Pandas & Load Dataset"
   ]
  },
  {
   "cell_type": "code",
   "execution_count": 1,
   "metadata": {},
   "outputs": [],
   "source": [
    "import pandas as pd\n",
    "\n",
    "loan_payments_csv_df = pd.read_csv(\"loan_payments.csv\")   #imports extracted csv file\n"
   ]
  },
  {
   "cell_type": "markdown",
   "metadata": {},
   "source": [
    "### Initial exploration of the data contained within the dataframe."
   ]
  },
  {
   "cell_type": "markdown",
   "metadata": {},
   "source": [
    "Explore the shape of the dataframe."
   ]
  },
  {
   "cell_type": "code",
   "execution_count": 2,
   "metadata": {},
   "outputs": [
    {
     "name": "stdout",
     "output_type": "stream",
     "text": [
      "This dataset has 54231 rows and 43 columns\n"
     ]
    }
   ],
   "source": [
    "shape = loan_payments_csv_df.shape\n",
    "print(f'This dataset has {shape[0]} rows and {shape[1]} columns')"
   ]
  },
  {
   "cell_type": "markdown",
   "metadata": {},
   "source": [
    "Identify the datatypes from each column within the dataframe."
   ]
  },
  {
   "cell_type": "code",
   "execution_count": 3,
   "metadata": {},
   "outputs": [
    {
     "name": "stdout",
     "output_type": "stream",
     "text": [
      "id                               int64\n",
      "member_id                        int64\n",
      "loan_amount                      int64\n",
      "funded_amount                  float64\n",
      "funded_amount_inv              float64\n",
      "term                            object\n",
      "int_rate                       float64\n",
      "instalment                     float64\n",
      "grade                           object\n",
      "sub_grade                       object\n",
      "employment_length               object\n",
      "home_ownership                  object\n",
      "annual_inc                     float64\n",
      "verification_status             object\n",
      "issue_date                      object\n",
      "loan_status                     object\n",
      "payment_plan                    object\n",
      "purpose                         object\n",
      "dti                            float64\n",
      "delinq_2yrs                      int64\n",
      "earliest_credit_line            object\n",
      "inq_last_6mths                   int64\n",
      "mths_since_last_delinq         float64\n",
      "mths_since_last_record         float64\n",
      "open_accounts                    int64\n",
      "total_accounts                   int64\n",
      "out_prncp                      float64\n",
      "out_prncp_inv                  float64\n",
      "total_payment                  float64\n",
      "total_payment_inv              float64\n",
      "total_rec_prncp                float64\n",
      "total_rec_int                  float64\n",
      "total_rec_late_fee             float64\n",
      "recoveries                     float64\n",
      "collection_recovery_fee        float64\n",
      "last_payment_date               object\n",
      "last_payment_amount            float64\n",
      "next_payment_date               object\n",
      "last_credit_pull_date           object\n",
      "collections_12_mths_ex_med     float64\n",
      "mths_since_last_major_derog    float64\n",
      "policy_code                      int64\n",
      "application_type                object\n",
      "dtype: object\n"
     ]
    }
   ],
   "source": [
    "print(loan_payments_csv_df.dtypes)"
   ]
  },
  {
   "cell_type": "markdown",
   "metadata": {},
   "source": [
    "### Correcting Column Datatypes"
   ]
  },
  {
   "cell_type": "markdown",
   "metadata": {},
   "source": [
    "Load in the DataTransform Class to modify columns to the correct datatype, and then print modified datatypes and the first 5 rows of the modified dataframe."
   ]
  },
  {
   "cell_type": "code",
   "execution_count": 4,
   "metadata": {},
   "outputs": [
    {
     "name": "stdout",
     "output_type": "stream",
     "text": [
      "id                                      int64\n",
      "member_id                               int64\n",
      "loan_amount                           float64\n",
      "funded_amount                         float64\n",
      "funded_amount_inv                     float64\n",
      "term                                    Int64\n",
      "int_rate                              float64\n",
      "instalment                            float64\n",
      "grade                                category\n",
      "sub_grade                            category\n",
      "employment_length                    category\n",
      "home_ownership                       category\n",
      "annual_inc                            float64\n",
      "verification_status                  category\n",
      "issue_date                     datetime64[ns]\n",
      "loan_status                          category\n",
      "payment_plan                         category\n",
      "purpose                              category\n",
      "dti                                   float64\n",
      "delinq_2yrs                             int64\n",
      "earliest_credit_line           datetime64[ns]\n",
      "inq_last_6mths                          int64\n",
      "mths_since_last_delinq                float64\n",
      "mths_since_last_record                float64\n",
      "open_accounts                           int64\n",
      "total_accounts                          int64\n",
      "out_prncp                             float64\n",
      "out_prncp_inv                         float64\n",
      "total_payment                         float64\n",
      "total_payment_inv                     float64\n",
      "total_rec_prncp                       float64\n",
      "total_rec_int                         float64\n",
      "total_rec_late_fee                    float64\n",
      "recoveries                            float64\n",
      "collection_recovery_fee               float64\n",
      "last_payment_date              datetime64[ns]\n",
      "last_payment_amount                   float64\n",
      "next_payment_date              datetime64[ns]\n",
      "last_credit_pull_date          datetime64[ns]\n",
      "collections_12_mths_ex_med            float64\n",
      "mths_since_last_major_derog           float64\n",
      "policy_code                             int64\n",
      "application_type                     category\n",
      "dtype: object\n",
      "          id  member_id  loan_amount  funded_amount  funded_amount_inv  term  \\\n",
      "0   38676116   41461848       8000.0         8000.0             8000.0    36   \n",
      "1   38656203   41440010      13200.0        13200.0            13200.0    36   \n",
      "2   38656154   41439961      16000.0        16000.0            16000.0    36   \n",
      "3   38656128   41439934      15000.0        15000.0            15000.0    36   \n",
      "4   38656121   41439927      15000.0        15000.0            15000.0    36   \n",
      "5   38656111   41439917       2525.0         2525.0             2525.0    36   \n",
      "6   38656110   41439916       6675.0         6675.0             6675.0  <NA>   \n",
      "7   38656067   41439872      26500.0        26500.0            26200.0  <NA>   \n",
      "8   38656063   41439868      10000.0        10000.0            10000.0    60   \n",
      "9   38656052   41439857      10000.0            NaN            10000.0    36   \n",
      "10  38656023   41439828       7200.0         7200.0             7200.0    36   \n",
      "11  38656004   41439809       2000.0         2000.0             2000.0    36   \n",
      "12  38656003   41439808       6000.0         6000.0             6000.0    36   \n",
      "13  38655994   41439798      10000.0        10000.0            10000.0  <NA>   \n",
      "14  38655931   41439735       7675.0         7675.0             7675.0    36   \n",
      "15  38655925   41439729      12000.0        12000.0            12000.0    36   \n",
      "16  38655917   41439721      12000.0        12000.0            12000.0    36   \n",
      "17  38655869   41439673      18825.0        18825.0            18825.0    60   \n",
      "18  38655866   41439670      12000.0        12000.0            12000.0    60   \n",
      "19  38655854   41439658       9000.0         9000.0             9000.0    36   \n",
      "\n",
      "    int_rate  instalment grade sub_grade  ... recoveries  \\\n",
      "0       7.49      248.82     A        A4  ...        0.0   \n",
      "1       6.99      407.52     A        A3  ...        0.0   \n",
      "2       7.49      497.63     A        A4  ...        0.0   \n",
      "3      14.31      514.93     C        C4  ...        0.0   \n",
      "4       6.03      456.54     A        A1  ...        0.0   \n",
      "5      11.44       83.20     B        B4  ...        0.0   \n",
      "6      21.99      254.89     E        E5  ...        0.0   \n",
      "7      19.99      701.95     E        E3  ...        0.0   \n",
      "8      12.99      227.48     C        C2  ...        0.0   \n",
      "9       8.19      314.25     A        A5  ...        0.0   \n",
      "10      8.19      226.26     A        A5  ...        0.0   \n",
      "11     10.49       65.00     B        B3  ...        0.0   \n",
      "12     12.39      200.41     C        C1  ...        0.0   \n",
      "13      6.99      308.73     A        A3  ...        0.0   \n",
      "14     13.66      261.05     C        C3  ...        0.0   \n",
      "15       NaN      377.09     A        A5  ...        0.0   \n",
      "16      8.19      377.09     A        A5  ...        0.0   \n",
      "17     13.66      434.72     C        C3  ...        0.0   \n",
      "18     12.39      269.31     C        C1  ...        0.0   \n",
      "19       NaN      292.48     B        B3  ...        0.0   \n",
      "\n",
      "   collection_recovery_fee  last_payment_date last_payment_amount  \\\n",
      "0                      0.0         2022-01-01              248.82   \n",
      "1                      0.0         2022-01-01              407.52   \n",
      "2                      0.0         2021-10-01            12850.16   \n",
      "3                      0.0         2021-06-01            13899.67   \n",
      "4                      0.0         2022-01-01              456.54   \n",
      "5                      0.0         2022-01-01               91.39   \n",
      "6                      0.0         2021-03-01             6724.95   \n",
      "7                      0.0         2021-08-01              701.95   \n",
      "8                      0.0         2022-01-01              227.48   \n",
      "9                      0.0         2022-01-01              314.25   \n",
      "10                     0.0         2022-01-01              226.26   \n",
      "11                     0.0         2022-01-01               65.00   \n",
      "12                     0.0         2022-01-01              200.41   \n",
      "13                     0.0         2022-01-01              308.73   \n",
      "14                     0.0         2022-01-01              261.05   \n",
      "15                     0.0         2022-01-01              377.09   \n",
      "16                     0.0         2022-01-01              377.09   \n",
      "17                     0.0         2021-10-01              434.72   \n",
      "18                     0.0         2022-01-01              269.31   \n",
      "19                     0.0         2022-01-01              442.48   \n",
      "\n",
      "   next_payment_date last_credit_pull_date collections_12_mths_ex_med  \\\n",
      "0         2022-02-01            2022-01-01                        0.0   \n",
      "1         2022-02-01            2022-01-01                        0.0   \n",
      "2                NaT            2021-10-01                        0.0   \n",
      "3                NaT            2021-06-01                        0.0   \n",
      "4         2022-02-01            2022-01-01                        0.0   \n",
      "5         2022-02-01            2022-01-01                        0.0   \n",
      "6                NaT            2021-03-01                        0.0   \n",
      "7                NaT            2022-01-01                        0.0   \n",
      "8         2022-02-01            2022-01-01                        0.0   \n",
      "9         2022-02-01            2022-01-01                        0.0   \n",
      "10        2022-02-01            2022-01-01                        0.0   \n",
      "11        2022-02-01            2022-01-01                        0.0   \n",
      "12        2022-02-01            2022-01-01                        0.0   \n",
      "13        2022-02-01            2022-01-01                        0.0   \n",
      "14        2022-02-01            2022-01-01                        0.0   \n",
      "15        2022-02-01            2022-01-01                        0.0   \n",
      "16        2022-02-01            2022-01-01                        0.0   \n",
      "17        2022-02-01            2022-01-01                        0.0   \n",
      "18        2022-02-01            2022-01-01                        0.0   \n",
      "19        2022-02-01            2022-01-01                        0.0   \n",
      "\n",
      "   mths_since_last_major_derog  policy_code  application_type  \n",
      "0                          5.0            1        INDIVIDUAL  \n",
      "1                          NaN            1        INDIVIDUAL  \n",
      "2                          NaN            1        INDIVIDUAL  \n",
      "3                          NaN            1        INDIVIDUAL  \n",
      "4                          NaN            1        INDIVIDUAL  \n",
      "5                          NaN            1        INDIVIDUAL  \n",
      "6                          NaN            1        INDIVIDUAL  \n",
      "7                         43.0            1        INDIVIDUAL  \n",
      "8                          NaN            1        INDIVIDUAL  \n",
      "9                          NaN            1        INDIVIDUAL  \n",
      "10                         NaN            1        INDIVIDUAL  \n",
      "11                         NaN            1        INDIVIDUAL  \n",
      "12                         NaN            1        INDIVIDUAL  \n",
      "13                         NaN            1        INDIVIDUAL  \n",
      "14                        75.0            1        INDIVIDUAL  \n",
      "15                         NaN            1        INDIVIDUAL  \n",
      "16                        58.0            1        INDIVIDUAL  \n",
      "17                         NaN            1        INDIVIDUAL  \n",
      "18                         NaN            1        INDIVIDUAL  \n",
      "19                        38.0            1        INDIVIDUAL  \n",
      "\n",
      "[20 rows x 43 columns]\n"
     ]
    }
   ],
   "source": [
    "from db_utils_local import DataTransform\n",
    "\n",
    "transformer = DataTransform(loan_payments_csv_df)\n",
    "\n",
    "transformer.convert_int_column_to_float('loan_amount')\n",
    "transformer.extract_nums_from_start_string('term')\n",
    "transformer.convert_column_to_category('application_type')\n",
    "transformer.convert_column_to_category('grade')\n",
    "transformer.convert_column_to_category('sub_grade')\n",
    "transformer.convert_column_to_category('employment_length')\n",
    "transformer.convert_column_to_category('home_ownership')\n",
    "transformer.convert_column_to_category('verification_status')\n",
    "transformer.convert_column_to_datetime('issue_date')\n",
    "transformer.convert_column_to_category('loan_status')\n",
    "transformer.convert_column_to_category('payment_plan')\n",
    "transformer.convert_column_to_category('purpose')\n",
    "transformer.convert_column_to_datetime('earliest_credit_line')\n",
    "transformer.convert_column_to_datetime('last_payment_date')\n",
    "transformer.convert_column_to_datetime('next_payment_date')\n",
    "transformer.convert_column_to_datetime('last_credit_pull_date')\n",
    "transformer.convert_column_to_category('application_type')\n",
    "\n",
    "\n",
    "\n",
    "modified_df = transformer.return_dataframe()\n",
    "\n",
    "print(modified_df.dtypes)\n",
    "#print(modified_df.loc[:,['issue_date','loan_amount','term', 'employment_length']].head(20))\n",
    "print(modified_df.head(20))"
   ]
  },
  {
   "cell_type": "markdown",
   "metadata": {},
   "source": [
    "Load in the DataFramInfo Class to extract information from the dataframe and it's columns."
   ]
  },
  {
   "cell_type": "code",
   "execution_count": 5,
   "metadata": {},
   "outputs": [
    {
     "name": "stdout",
     "output_type": "stream",
     "text": [
      "id                                      int64\n",
      "member_id                               int64\n",
      "loan_amount                           float64\n",
      "funded_amount                         float64\n",
      "funded_amount_inv                     float64\n",
      "term                                    Int64\n",
      "int_rate                              float64\n",
      "instalment                            float64\n",
      "grade                                category\n",
      "sub_grade                            category\n",
      "employment_length                    category\n",
      "home_ownership                       category\n",
      "annual_inc                            float64\n",
      "verification_status                  category\n",
      "issue_date                     datetime64[ns]\n",
      "loan_status                          category\n",
      "payment_plan                         category\n",
      "purpose                              category\n",
      "dti                                   float64\n",
      "delinq_2yrs                             int64\n",
      "earliest_credit_line           datetime64[ns]\n",
      "inq_last_6mths                          int64\n",
      "mths_since_last_delinq                float64\n",
      "mths_since_last_record                float64\n",
      "open_accounts                           int64\n",
      "total_accounts                          int64\n",
      "out_prncp                             float64\n",
      "out_prncp_inv                         float64\n",
      "total_payment                         float64\n",
      "total_payment_inv                     float64\n",
      "total_rec_prncp                       float64\n",
      "total_rec_int                         float64\n",
      "total_rec_late_fee                    float64\n",
      "recoveries                            float64\n",
      "collection_recovery_fee               float64\n",
      "last_payment_date              datetime64[ns]\n",
      "last_payment_amount                   float64\n",
      "next_payment_date              datetime64[ns]\n",
      "last_credit_pull_date          datetime64[ns]\n",
      "collections_12_mths_ex_med            float64\n",
      "mths_since_last_major_derog           float64\n",
      "policy_code                             int64\n",
      "application_type                     category\n",
      "dtype: object\n",
      "                 id     member_id   loan_amount  funded_amount  \\\n",
      "count  5.423100e+04  5.423100e+04  54231.000000   51224.000000   \n",
      "mean   7.621797e+06  8.655350e+06  13333.076100   13229.509117   \n",
      "min    5.552100e+04  7.069400e+04    500.000000     500.000000   \n",
      "25%    7.594330e+05  9.587720e+05   7000.000000    7000.000000   \n",
      "50%    7.084590e+06  8.709873e+06  12000.000000   12000.000000   \n",
      "75%    8.860616e+06  1.052714e+07  18000.000000   18000.000000   \n",
      "max    3.867612e+07  4.146185e+07  35000.000000   35000.000000   \n",
      "std    9.571362e+06  1.031281e+07   8082.196709    8019.017599   \n",
      "\n",
      "       funded_amount_inv       term      int_rate    instalment    annual_inc  \\\n",
      "count       54231.000000    49459.0  49062.000000  54231.000000  5.423100e+04   \n",
      "mean        12952.622979  42.606199     13.507328    400.013953  7.222085e+04   \n",
      "min             0.000000       36.0      5.420000     15.670000  3.300000e+03   \n",
      "25%          6700.000000       36.0     10.370000    224.205000  4.500000e+04   \n",
      "50%         11300.000000       36.0     13.160000    347.150000  6.100000e+04   \n",
      "75%         18000.000000       60.0     16.200000    527.550000  8.600000e+04   \n",
      "max         35000.000000       60.0     26.060000   1407.010000  2.039784e+06   \n",
      "std          8099.473527  10.719573      4.392893    238.920012  5.158934e+04   \n",
      "\n",
      "                          issue_date  ...  total_rec_late_fee    recoveries  \\\n",
      "count                          54231  ...        54231.000000  54231.000000   \n",
      "mean   2018-09-17 11:41:04.855894272  ...            0.901512     93.501288   \n",
      "min              2013-06-01 00:00:00  ...            0.000000      0.000000   \n",
      "25%              2017-05-01 00:00:00  ...            0.000000      0.000000   \n",
      "50%              2019-09-01 00:00:00  ...            0.000000      0.000000   \n",
      "75%              2019-11-01 00:00:00  ...            0.000000      0.000000   \n",
      "max              2021-01-01 00:00:00  ...          358.680000  27750.000000   \n",
      "std                              NaN  ...            6.215792    630.843636   \n",
      "\n",
      "      collection_recovery_fee              last_payment_date  \\\n",
      "count            54231.000000                          54158   \n",
      "mean                10.859057  2020-08-23 00:21:38.600391680   \n",
      "min                  0.000000            2013-12-01 00:00:00   \n",
      "25%                  0.000000            2019-11-01 00:00:00   \n",
      "50%                  0.000000            2021-04-01 00:00:00   \n",
      "75%                  0.000000            2022-01-01 00:00:00   \n",
      "max               7002.190000            2022-01-01 00:00:00   \n",
      "std                120.193950                            NaN   \n",
      "\n",
      "       last_payment_amount              next_payment_date  \\\n",
      "count         54231.000000                          21623   \n",
      "mean           3130.706393  2021-10-18 16:47:47.613189632   \n",
      "min               0.000000            2014-01-01 00:00:00   \n",
      "25%             289.790000            2022-02-01 00:00:00   \n",
      "50%             562.670000            2022-02-01 00:00:00   \n",
      "75%            3738.120000            2022-02-01 00:00:00   \n",
      "max           36115.200000            2022-02-01 00:00:00   \n",
      "std            5323.801675                            NaN   \n",
      "\n",
      "               last_credit_pull_date  collections_12_mths_ex_med  \\\n",
      "count                          54224                54180.000000   \n",
      "mean   2021-04-15 16:16:28.964296192                    0.004208   \n",
      "min              2013-05-01 00:00:00                    0.000000   \n",
      "25%              2021-02-01 00:00:00                    0.000000   \n",
      "50%              2022-01-01 00:00:00                    0.000000   \n",
      "75%              2022-01-01 00:00:00                    0.000000   \n",
      "max              2022-01-01 00:00:00                    4.000000   \n",
      "std                              NaN                    0.070990   \n",
      "\n",
      "       mths_since_last_major_derog  policy_code  \n",
      "count                  7499.000000      54231.0  \n",
      "mean                     42.253634          1.0  \n",
      "min                       0.000000          1.0  \n",
      "25%                      26.000000          1.0  \n",
      "50%                      42.000000          1.0  \n",
      "75%                      59.000000          1.0  \n",
      "max                     146.000000          1.0  \n",
      "std                      21.052360          0.0  \n",
      "\n",
      "[8 rows x 34 columns]\n",
      "grade                   7\n",
      "sub_grade              35\n",
      "employment_length      11\n",
      "home_ownership          5\n",
      "verification_status     3\n",
      "loan_status             9\n",
      "payment_plan            2\n",
      "purpose                14\n",
      "application_type        1\n",
      "dtype: int64\n",
      "(54231, 43)\n",
      "                             Count Null  Percentage Null\n",
      "id                                    0         0.000000\n",
      "member_id                             0         0.000000\n",
      "loan_amount                           0         0.000000\n",
      "funded_amount                      3007         5.544799\n",
      "funded_amount_inv                     0         0.000000\n",
      "term                               4772         8.799395\n",
      "int_rate                           5169         9.531449\n",
      "instalment                            0         0.000000\n",
      "grade                                 0         0.000000\n",
      "sub_grade                             0         0.000000\n",
      "employment_length                  2118         3.905515\n",
      "home_ownership                        0         0.000000\n",
      "annual_inc                            0         0.000000\n",
      "verification_status                   0         0.000000\n",
      "issue_date                            0         0.000000\n",
      "loan_status                           0         0.000000\n",
      "payment_plan                          0         0.000000\n",
      "purpose                               0         0.000000\n",
      "dti                                   0         0.000000\n",
      "delinq_2yrs                           0         0.000000\n",
      "earliest_credit_line                  0         0.000000\n",
      "inq_last_6mths                        0         0.000000\n",
      "mths_since_last_delinq            31002        57.166565\n",
      "mths_since_last_record            48050        88.602460\n",
      "open_accounts                         0         0.000000\n",
      "total_accounts                        0         0.000000\n",
      "out_prncp                             0         0.000000\n",
      "out_prncp_inv                         0         0.000000\n",
      "total_payment                         0         0.000000\n",
      "total_payment_inv                     0         0.000000\n",
      "total_rec_prncp                       0         0.000000\n",
      "total_rec_int                         0         0.000000\n",
      "total_rec_late_fee                    0         0.000000\n",
      "recoveries                            0         0.000000\n",
      "collection_recovery_fee               0         0.000000\n",
      "last_payment_date                    73         0.134609\n",
      "last_payment_amount                   0         0.000000\n",
      "next_payment_date                 32608        60.127971\n",
      "last_credit_pull_date                 7         0.012908\n",
      "collections_12_mths_ex_med           51         0.094042\n",
      "mths_since_last_major_derog       46732        86.172116\n",
      "policy_code                           0         0.000000\n",
      "application_type                      0         0.000000\n"
     ]
    }
   ],
   "source": [
    "from db_utils_local import DataframeInfo\n",
    "\n",
    "df_info = DataframeInfo(modified_df)\n",
    "\n",
    "print(df_info.describe_columns())\n",
    "print(df_info.extract_statistics())\n",
    "print(df_info.count_dist_values_cat())\n",
    "print(df_info.shape_of_df())\n",
    "print(df_info.count_percent_null())\n",
    "\n"
   ]
  },
  {
   "cell_type": "markdown",
   "metadata": {},
   "source": [
    "### Null Values"
   ]
  },
  {
   "cell_type": "markdown",
   "metadata": {},
   "source": [
    "In the section above the null values are clearly identified within each category.\n",
    "\n",
    "Four categories had such a large % of null values (between 57-87%) that those columns were removed entirely from the dataframe, as shown below.\n",
    "\n",
    "The funded_amount column was missing 3007 data points, equating to 5.54% of the values. These values are highly correclated, typically identical values with funded_amount_inv and loan_amount. Statistical analysis on these columns, shown above, evidences this correlation.\n",
    "\n",
    "Due to this high correlation, this column is essentially duplicate data, with some missing values, and does not provide meaningful additional information to the dataset, so it will be dropped.\n",
    "\n",
    "In addition to this, one of the other two columns should also be removed when dropping overly correlated columns in task 6."
   ]
  },
  {
   "cell_type": "code",
   "execution_count": 6,
   "metadata": {},
   "outputs": [
    {
     "name": "stdout",
     "output_type": "stream",
     "text": [
      "                            Count Null  Percentage Null\n",
      "id                                   0         0.000000\n",
      "member_id                            0         0.000000\n",
      "loan_amount                          0         0.000000\n",
      "funded_amount_inv                    0         0.000000\n",
      "term                              4772         8.799395\n",
      "int_rate                          5169         9.531449\n",
      "instalment                           0         0.000000\n",
      "grade                                0         0.000000\n",
      "sub_grade                            0         0.000000\n",
      "employment_length                 2118         3.905515\n",
      "home_ownership                       0         0.000000\n",
      "annual_inc                           0         0.000000\n",
      "verification_status                  0         0.000000\n",
      "issue_date                           0         0.000000\n",
      "loan_status                          0         0.000000\n",
      "payment_plan                         0         0.000000\n",
      "purpose                              0         0.000000\n",
      "dti                                  0         0.000000\n",
      "delinq_2yrs                          0         0.000000\n",
      "earliest_credit_line                 0         0.000000\n",
      "inq_last_6mths                       0         0.000000\n",
      "open_accounts                        0         0.000000\n",
      "total_accounts                       0         0.000000\n",
      "out_prncp                            0         0.000000\n",
      "out_prncp_inv                        0         0.000000\n",
      "total_payment                        0         0.000000\n",
      "total_payment_inv                    0         0.000000\n",
      "total_rec_prncp                      0         0.000000\n",
      "total_rec_int                        0         0.000000\n",
      "total_rec_late_fee                   0         0.000000\n",
      "recoveries                           0         0.000000\n",
      "collection_recovery_fee              0         0.000000\n",
      "last_payment_date                   73         0.134609\n",
      "last_payment_amount                  0         0.000000\n",
      "last_credit_pull_date                7         0.012908\n",
      "collections_12_mths_ex_med          51         0.094042\n",
      "policy_code                          0         0.000000\n",
      "application_type                     0         0.000000\n"
     ]
    }
   ],
   "source": [
    "from db_utils_local import DataFrameTransform\n",
    "\n",
    "dftransformer = DataFrameTransform(modified_df)\n",
    "\n",
    "dftransformer.delete_column('mths_since_last_delinq')\n",
    "dftransformer.delete_column('mths_since_last_record')\n",
    "dftransformer.delete_column('next_payment_date')\n",
    "dftransformer.delete_column('mths_since_last_major_derog')\n",
    "dftransformer.delete_column('funded_amount')\n",
    "\n",
    "modified_df = dftransformer.return_dataframe()\n",
    "\n",
    "df_info = DataframeInfo(modified_df)\n",
    "print(df_info.count_percent_null())"
   ]
  },
  {
   "cell_type": "markdown",
   "metadata": {},
   "source": [
    "Two columns contained very few null values, but these records were generally missing a variety of data, so the rows were removed, as shown below."
   ]
  },
  {
   "cell_type": "code",
   "execution_count": 7,
   "metadata": {},
   "outputs": [
    {
     "name": "stdout",
     "output_type": "stream",
     "text": [
      "                            Count Null  Percentage Null\n",
      "id                                   0         0.000000\n",
      "member_id                            0         0.000000\n",
      "loan_amount                          0         0.000000\n",
      "funded_amount_inv                    0         0.000000\n",
      "term                              4766         8.801315\n",
      "int_rate                          5161         9.530757\n",
      "instalment                           0         0.000000\n",
      "grade                                0         0.000000\n",
      "sub_grade                            0         0.000000\n",
      "employment_length                 2114         3.903898\n",
      "home_ownership                       0         0.000000\n",
      "annual_inc                           0         0.000000\n",
      "verification_status                  0         0.000000\n",
      "issue_date                           0         0.000000\n",
      "loan_status                          0         0.000000\n",
      "payment_plan                         0         0.000000\n",
      "purpose                              0         0.000000\n",
      "dti                                  0         0.000000\n",
      "delinq_2yrs                          0         0.000000\n",
      "earliest_credit_line                 0         0.000000\n",
      "inq_last_6mths                       0         0.000000\n",
      "open_accounts                        0         0.000000\n",
      "total_accounts                       0         0.000000\n",
      "out_prncp                            0         0.000000\n",
      "out_prncp_inv                        0         0.000000\n",
      "total_payment                        0         0.000000\n",
      "total_payment_inv                    0         0.000000\n",
      "total_rec_prncp                      0         0.000000\n",
      "total_rec_int                        0         0.000000\n",
      "total_rec_late_fee                   0         0.000000\n",
      "recoveries                           0         0.000000\n",
      "collection_recovery_fee              0         0.000000\n",
      "last_payment_date                    0         0.000000\n",
      "last_payment_amount                  0         0.000000\n",
      "last_credit_pull_date                0         0.000000\n",
      "collections_12_mths_ex_med          51         0.094181\n",
      "policy_code                          0         0.000000\n",
      "application_type                     0         0.000000\n"
     ]
    }
   ],
   "source": [
    "from db_utils_local import DataFrameTransform\n",
    "\n",
    "dftransformer = DataFrameTransform(modified_df)\n",
    "\n",
    "dftransformer.delete_row('last_payment_date')\n",
    "dftransformer.delete_row('last_credit_pull_date')\n",
    "\n",
    "modified_df = dftransformer.return_dataframe()\n",
    "\n",
    "df_info = DataframeInfo(modified_df)\n",
    "print(df_info.count_percent_null())"
   ]
  },
  {
   "cell_type": "markdown",
   "metadata": {},
   "source": [
    "The collections_12_mths_ex_med column is missing a very small amount of data (0.09%) and the vast majority (99.52%) of values within this columnn are zero, making the median and mode zero. The null values in this column were replaced with zero, as it was the median and mode value, and numerically close to the mean (0.0042). "
   ]
  },
  {
   "cell_type": "code",
   "execution_count": 8,
   "metadata": {},
   "outputs": [
    {
     "name": "stdout",
     "output_type": "stream",
     "text": [
      "                            Count Null  Percentage Null\n",
      "id                                   0         0.000000\n",
      "member_id                            0         0.000000\n",
      "loan_amount                          0         0.000000\n",
      "funded_amount_inv                    0         0.000000\n",
      "term                              4766         8.801315\n",
      "int_rate                          5161         9.530757\n",
      "instalment                           0         0.000000\n",
      "grade                                0         0.000000\n",
      "sub_grade                            0         0.000000\n",
      "employment_length                 2114         3.903898\n",
      "home_ownership                       0         0.000000\n",
      "annual_inc                           0         0.000000\n",
      "verification_status                  0         0.000000\n",
      "issue_date                           0         0.000000\n",
      "loan_status                          0         0.000000\n",
      "payment_plan                         0         0.000000\n",
      "purpose                              0         0.000000\n",
      "dti                                  0         0.000000\n",
      "delinq_2yrs                          0         0.000000\n",
      "earliest_credit_line                 0         0.000000\n",
      "inq_last_6mths                       0         0.000000\n",
      "open_accounts                        0         0.000000\n",
      "total_accounts                       0         0.000000\n",
      "out_prncp                            0         0.000000\n",
      "out_prncp_inv                        0         0.000000\n",
      "total_payment                        0         0.000000\n",
      "total_payment_inv                    0         0.000000\n",
      "total_rec_prncp                      0         0.000000\n",
      "total_rec_int                        0         0.000000\n",
      "total_rec_late_fee                   0         0.000000\n",
      "recoveries                           0         0.000000\n",
      "collection_recovery_fee              0         0.000000\n",
      "last_payment_date                    0         0.000000\n",
      "last_payment_amount                  0         0.000000\n",
      "last_credit_pull_date                0         0.000000\n",
      "collections_12_mths_ex_med           0         0.000000\n",
      "policy_code                          0         0.000000\n",
      "application_type                     0         0.000000\n"
     ]
    },
    {
     "name": "stderr",
     "output_type": "stream",
     "text": [
      "c:\\Users\\clair\\AiCore_Course\\EDA Project\\db_utils_local.py:76: FutureWarning: A value is trying to be set on a copy of a DataFrame or Series through chained assignment using an inplace method.\n",
      "The behavior will change in pandas 3.0. This inplace method will never work because the intermediate object on which we are setting values always behaves as a copy.\n",
      "\n",
      "For example, when doing 'df[col].method(value, inplace=True)', try using 'df.method({col: value}, inplace=True)' or df[col] = df[col].method(value) instead, to perform the operation inplace on the original object.\n",
      "\n",
      "\n",
      "  median_impute = self.df[column_name].fillna(self.df[column_name].median(), inplace=True) # Replaces null value with median value\n"
     ]
    }
   ],
   "source": [
    "from db_utils_local import DataFrameTransform\n",
    "\n",
    "dftransformer = DataFrameTransform(modified_df)\n",
    "\n",
    "dftransformer.impute_median('collections_12_mths_ex_med')\n",
    "\n",
    "modified_df = dftransformer.return_dataframe()\n",
    "\n",
    "df_info = DataframeInfo(modified_df)\n",
    "print(df_info.count_percent_null())"
   ]
  },
  {
   "cell_type": "markdown",
   "metadata": {},
   "source": [
    "The employment_length column has 2118 null values, representing approxmately 3.9% of the dataset rows. The discrete probability distribution below, demonstrates that 10+ years is by far the most frequent category for employment_length, and assigning the small number of null values to this modal category will not add much to the already highly skewed nature of this category. "
   ]
  },
  {
   "cell_type": "code",
   "execution_count": 9,
   "metadata": {},
   "outputs": [
    {
     "data": {
      "image/png": "[encoded data removed]",
      "text/plain": [
       "<Figure size 640x480 with 1 Axes>"
      ]
     },
     "metadata": {},
     "output_type": "display_data"
    }
   ],
   "source": [
    "from db_utils_local import Plotter\n",
    "\n",
    "dfplotter = Plotter(modified_df)\n",
    "\n",
    "dfplotter.discrete_probability_distribution('employment_length')"
   ]
  },
  {
   "cell_type": "markdown",
   "metadata": {},
   "source": [
    "So the employment_length null values are replaced with the modal category of 10+ years, as shown below."
   ]
  },
  {
   "cell_type": "code",
   "execution_count": 10,
   "metadata": {},
   "outputs": [
    {
     "name": "stdout",
     "output_type": "stream",
     "text": [
      "                            Count Null  Percentage Null\n",
      "id                                   0         0.000000\n",
      "member_id                            0         0.000000\n",
      "loan_amount                          0         0.000000\n",
      "funded_amount_inv                    0         0.000000\n",
      "term                              4766         8.801315\n",
      "int_rate                          5161         9.530757\n",
      "instalment                           0         0.000000\n",
      "grade                                0         0.000000\n",
      "sub_grade                            0         0.000000\n",
      "employment_length                    0         0.000000\n",
      "home_ownership                       0         0.000000\n",
      "annual_inc                           0         0.000000\n",
      "verification_status                  0         0.000000\n",
      "issue_date                           0         0.000000\n",
      "loan_status                          0         0.000000\n",
      "payment_plan                         0         0.000000\n",
      "purpose                              0         0.000000\n",
      "dti                                  0         0.000000\n",
      "delinq_2yrs                          0         0.000000\n",
      "earliest_credit_line                 0         0.000000\n",
      "inq_last_6mths                       0         0.000000\n",
      "open_accounts                        0         0.000000\n",
      "total_accounts                       0         0.000000\n",
      "out_prncp                            0         0.000000\n",
      "out_prncp_inv                        0         0.000000\n",
      "total_payment                        0         0.000000\n",
      "total_payment_inv                    0         0.000000\n",
      "total_rec_prncp                      0         0.000000\n",
      "total_rec_int                        0         0.000000\n",
      "total_rec_late_fee                   0         0.000000\n",
      "recoveries                           0         0.000000\n",
      "collection_recovery_fee              0         0.000000\n",
      "last_payment_date                    0         0.000000\n",
      "last_payment_amount                  0         0.000000\n",
      "last_credit_pull_date                0         0.000000\n",
      "collections_12_mths_ex_med           0         0.000000\n",
      "policy_code                          0         0.000000\n",
      "application_type                     0         0.000000\n"
     ]
    },
    {
     "name": "stderr",
     "output_type": "stream",
     "text": [
      "c:\\Users\\clair\\AiCore_Course\\EDA Project\\db_utils_local.py:80: FutureWarning: A value is trying to be set on a copy of a DataFrame or Series through chained assignment using an inplace method.\n",
      "The behavior will change in pandas 3.0. This inplace method will never work because the intermediate object on which we are setting values always behaves as a copy.\n",
      "\n",
      "For example, when doing 'df[col].method(value, inplace=True)', try using 'df.method({col: value}, inplace=True)' or df[col] = df[col].method(value) instead, to perform the operation inplace on the original object.\n",
      "\n",
      "\n",
      "  mode_impute = self.df[column_name].fillna(self.df[column_name].mode()[0], inplace=True) # Replaces null value with mode value\n"
     ]
    }
   ],
   "source": [
    "from db_utils_local import DataFrameTransform\n",
    "\n",
    "dftransformer = DataFrameTransform(modified_df)\n",
    "\n",
    "dftransformer.impute_mode('employment_length')\n",
    "\n",
    "modified_df = dftransformer.return_dataframe()\n",
    "\n",
    "df_info = DataframeInfo(modified_df)\n",
    "print(df_info.count_percent_null())"
   ]
  },
  {
   "cell_type": "markdown",
   "metadata": {},
   "source": [
    "Reproducing the discrete probability distribution after the mode impute, shows a very similar result."
   ]
  },
  {
   "cell_type": "code",
   "execution_count": 11,
   "metadata": {},
   "outputs": [
    {
     "data": {
      "image/png": "[encoded data removed]",
      "text/plain": [
       "<Figure size 640x480 with 1 Axes>"
      ]
     },
     "metadata": {},
     "output_type": "display_data"
    }
   ],
   "source": [
    "from db_utils_local import Plotter\n",
    "\n",
    "dfplotter = Plotter(modified_df)\n",
    "\n",
    "dfplotter.discrete_probability_distribution('employment_length')"
   ]
  },
  {
   "cell_type": "code",
   "execution_count": 12,
   "metadata": {},
   "outputs": [
    {
     "name": "stdout",
     "output_type": "stream",
     "text": [
      "                mean  median       std    max    min\n",
      "sub_grade                                           \n",
      "A1          5.916654   6.030  0.335889   7.37   5.42\n",
      "A2          6.549865   6.620  0.450687   7.68   5.79\n",
      "A3          7.338374   7.620  0.453513   8.00   6.17\n",
      "A4          7.785684   7.900  0.545158   9.32   6.54\n",
      "A5          8.569729   8.900  0.634619   9.63   6.91\n",
      "B1          9.776817   9.710  0.496137  11.14   6.00\n",
      "B2         10.690841  10.990  0.493848  11.48   9.01\n",
      "B3         11.465068  11.710  0.646449  11.99   9.33\n",
      "B4         12.238768  12.420  0.846440  12.99   9.64\n",
      "B5         12.637586  12.690  1.027472  13.67   6.00\n",
      "C1         13.498925  13.680  0.842821  14.30   6.00\n",
      "C2         14.068955  14.330  0.953648  15.10  10.59\n",
      "C3         14.719312  15.220  1.022945  15.61   6.00\n",
      "C4         15.334145  15.880  1.086108  16.20  11.22\n",
      "C5         16.043528  16.780  1.258998  17.10  11.54\n",
      "D1         16.647544  17.560  1.389584  17.76   6.00\n",
      "D2         16.911867  17.570  1.590166  18.55  12.17\n",
      "D3         17.410885  18.250  1.771498  19.20   6.00\n",
      "D4         17.928162  19.220  1.832587  19.52  12.80\n",
      "D5         18.589706  19.970  2.018635  20.31   6.00\n",
      "E1         18.739556  18.640  2.127581  21.00  13.43\n",
      "E2         19.565327  21.150  2.324652  21.70   6.00\n",
      "E3         20.019207  20.095  2.454446  22.40  14.07\n",
      "E4         20.593260  22.200  2.625495  23.10  14.38\n",
      "E5         21.298104  22.700  2.553404  23.40   6.00\n",
      "F1         21.593913  23.500  2.566968  23.70  15.01\n",
      "F2         22.078575  24.080  2.649321  24.08  15.33\n",
      "F3         22.742339  24.500  2.655690  24.50  15.65\n",
      "F4         23.105962  24.890  2.693697  24.99  15.96\n",
      "F5         23.370330  25.280  3.118055  25.57   6.00\n",
      "G1         23.233529  25.800  3.037125  25.80  16.59\n",
      "G2         23.314444  25.830  2.922272  25.83  16.91\n",
      "G3         23.726098  25.890  2.904990  25.89  17.22\n",
      "G4         22.271343  21.270  3.080410  25.99  17.54\n",
      "G5         22.132836  21.590  3.150070  26.06  17.86\n"
     ]
    },
    {
     "name": "stderr",
     "output_type": "stream",
     "text": [
      "C:\\Users\\clair\\AppData\\Local\\Temp\\ipykernel_19472\\2532054989.py:2: FutureWarning: The default of observed=False is deprecated and will be changed to True in a future version of pandas. Pass observed=False to retain current behavior or observed=True to adopt the future default and silence this warning.\n",
      "  grouped = modified_df.groupby('sub_grade')['int_rate'].agg(['mean', 'median', 'std','max','min'])\n"
     ]
    }
   ],
   "source": [
    "# Group by 'Category' and calculate mean, median, and std dev\n",
    "grouped = modified_df.groupby('sub_grade')['int_rate'].agg(['mean', 'median', 'std','max','min'])\n",
    "\n",
    "# Display the result\n",
    "print(grouped)"
   ]
  },
  {
   "cell_type": "markdown",
   "metadata": {},
   "source": [
    "IF int_rate AND term = NULL VALUES ARE BOTH MISSING, REMOVE THE ROW !!!!!!!!!!!!!!!!!!!!!!!!"
   ]
  },
  {
   "cell_type": "markdown",
   "metadata": {},
   "source": [
    "The columns int_rate and term are both missing a moderate number of values (9.53% and 8.8% respectively), which is too many values to just delete those rows but not enough rows to warrant removing the column. Also these are both likely to be very useful information when assessing the loan portfolio.\n",
    "\n",
    "Methods were identified to impute appropriate values into both columns, however errors with this imputation arose when both fields were missing. Due to this problem, rows where both the int_rate and term were missing had to be removed. This was only a small amount, and meant that data integrity could be preserved for the remaining rows within the dataframe."
   ]
  },
  {
   "cell_type": "code",
   "execution_count": 13,
   "metadata": {},
   "outputs": [
    {
     "name": "stdout",
     "output_type": "stream",
     "text": [
      "                            Count Null  Percentage Null\n",
      "id                                   0         0.000000\n",
      "member_id                            0         0.000000\n",
      "loan_amount                          0         0.000000\n",
      "funded_amount_inv                    0         0.000000\n",
      "term                              4299         8.007973\n",
      "int_rate                          4694         8.743760\n",
      "instalment                           0         0.000000\n",
      "grade                                0         0.000000\n",
      "sub_grade                            0         0.000000\n",
      "employment_length                    0         0.000000\n",
      "home_ownership                       0         0.000000\n",
      "annual_inc                           0         0.000000\n",
      "verification_status                  0         0.000000\n",
      "issue_date                           0         0.000000\n",
      "loan_status                          0         0.000000\n",
      "payment_plan                         0         0.000000\n",
      "purpose                              0         0.000000\n",
      "dti                                  0         0.000000\n",
      "delinq_2yrs                          0         0.000000\n",
      "earliest_credit_line                 0         0.000000\n",
      "inq_last_6mths                       0         0.000000\n",
      "open_accounts                        0         0.000000\n",
      "total_accounts                       0         0.000000\n",
      "out_prncp                            0         0.000000\n",
      "out_prncp_inv                        0         0.000000\n",
      "total_payment                        0         0.000000\n",
      "total_payment_inv                    0         0.000000\n",
      "total_rec_prncp                      0         0.000000\n",
      "total_rec_int                        0         0.000000\n",
      "total_rec_late_fee                   0         0.000000\n",
      "recoveries                           0         0.000000\n",
      "collection_recovery_fee              0         0.000000\n",
      "last_payment_date                    0         0.000000\n",
      "last_payment_amount                  0         0.000000\n",
      "last_credit_pull_date                0         0.000000\n",
      "collections_12_mths_ex_med           0         0.000000\n",
      "policy_code                          0         0.000000\n",
      "application_type                     0         0.000000\n"
     ]
    }
   ],
   "source": [
    "# Insert code to remove the row when both int_rate and term are null.\n",
    "from db_utils_local import DataFrameTransform\n",
    "\n",
    "dftransformer = DataFrameTransform(modified_df)\n",
    "\n",
    "dftransformer.delete_row_if_both_null('int_rate', 'term')\n",
    "\n",
    "modified_df = dftransformer.return_dataframe()\n",
    "\n",
    "df_info = DataframeInfo(modified_df)\n",
    "print(df_info.count_percent_null())"
   ]
  },
  {
   "cell_type": "markdown",
   "metadata": {},
   "source": [
    "When the dataframe is organised by sub_grade, the int_rate groups together in sections where all loans in a particular time period are given a specific rate. The loan raate changes over time for each sub grade of loan, but it is reasonable to impute the interest rate of the loan below when this is missing from the data. The vast majority of these imputations will be correct, as the missing value is between two identical rates. Very occasionally the row above and below the missing value are different, although generally by only a few tenths of a percent, and this will mean that the imputed int_rate could be inaccurate."
   ]
  },
  {
   "cell_type": "code",
   "execution_count": 14,
   "metadata": {},
   "outputs": [
    {
     "name": "stdout",
     "output_type": "stream",
     "text": [
      "                            Count Null  Percentage Null\n",
      "id                                   0         0.000000\n",
      "member_id                            0         0.000000\n",
      "loan_amount                          0         0.000000\n",
      "funded_amount_inv                    0         0.000000\n",
      "term                              4299         8.007973\n",
      "int_rate                             0         0.000000\n",
      "instalment                           0         0.000000\n",
      "grade                                0         0.000000\n",
      "sub_grade                            0         0.000000\n",
      "employment_length                    0         0.000000\n",
      "home_ownership                       0         0.000000\n",
      "annual_inc                           0         0.000000\n",
      "verification_status                  0         0.000000\n",
      "issue_date                           0         0.000000\n",
      "loan_status                          0         0.000000\n",
      "payment_plan                         0         0.000000\n",
      "purpose                              0         0.000000\n",
      "dti                                  0         0.000000\n",
      "delinq_2yrs                          0         0.000000\n",
      "earliest_credit_line                 0         0.000000\n",
      "inq_last_6mths                       0         0.000000\n",
      "open_accounts                        0         0.000000\n",
      "total_accounts                       0         0.000000\n",
      "out_prncp                            0         0.000000\n",
      "out_prncp_inv                        0         0.000000\n",
      "total_payment                        0         0.000000\n",
      "total_payment_inv                    0         0.000000\n",
      "total_rec_prncp                      0         0.000000\n",
      "total_rec_int                        0         0.000000\n",
      "total_rec_late_fee                   0         0.000000\n",
      "recoveries                           0         0.000000\n",
      "collection_recovery_fee              0         0.000000\n",
      "last_payment_date                    0         0.000000\n",
      "last_payment_amount                  0         0.000000\n",
      "last_credit_pull_date                0         0.000000\n",
      "collections_12_mths_ex_med           0         0.000000\n",
      "policy_code                          0         0.000000\n",
      "application_type                     0         0.000000\n"
     ]
    }
   ],
   "source": [
    "from db_utils_local import DataFrameTransform\n",
    "\n",
    "dftransformer = DataFrameTransform(modified_df)\n",
    "\n",
    "dftransformer.impute_previous_row_value('sub_grade','int_rate')\n",
    "\n",
    "modified_df = dftransformer.return_dataframe()\n",
    "\n",
    "df_info = DataframeInfo(modified_df)\n",
    "print(df_info.count_percent_null())\n",
    "# modified_df.to_csv('modified_loan_payments.csv', index=False)"
   ]
  },
  {
   "cell_type": "markdown",
   "metadata": {},
   "source": [
    "Code to impute term of loan"
   ]
  },
  {
   "cell_type": "code",
   "execution_count": 15,
   "metadata": {},
   "outputs": [
    {
     "ename": "ValueError",
     "evalue": "cannot convert float NaN to integer",
     "output_type": "error",
     "traceback": [
      "\u001b[1;31m---------------------------------------------------------------------------\u001b[0m",
      "\u001b[1;31mValueError\u001b[0m                                Traceback (most recent call last)",
      "Cell \u001b[1;32mIn[15], line 5\u001b[0m\n\u001b[0;32m      1\u001b[0m \u001b[38;5;28;01mfrom\u001b[39;00m \u001b[38;5;21;01mdb_utils_local\u001b[39;00m \u001b[38;5;28;01mimport\u001b[39;00m DataFrameTransform\n\u001b[0;32m      3\u001b[0m dftransformer \u001b[38;5;241m=\u001b[39m DataFrameTransform(modified_df)\n\u001b[1;32m----> 5\u001b[0m \u001b[43mdftransformer\u001b[49m\u001b[38;5;241;43m.\u001b[39;49m\u001b[43mimpute_term\u001b[49m\u001b[43m(\u001b[49m\u001b[38;5;124;43m'\u001b[39;49m\u001b[38;5;124;43mterm\u001b[39;49m\u001b[38;5;124;43m'\u001b[39;49m\u001b[43m,\u001b[49m\u001b[43m \u001b[49m\u001b[38;5;124;43m'\u001b[39;49m\u001b[38;5;124;43mloan_amount\u001b[39;49m\u001b[38;5;124;43m'\u001b[39;49m\u001b[43m,\u001b[49m\u001b[43m \u001b[49m\u001b[38;5;124;43m'\u001b[39;49m\u001b[38;5;124;43mint_rate\u001b[39;49m\u001b[38;5;124;43m'\u001b[39;49m\u001b[43m,\u001b[49m\u001b[43m \u001b[49m\u001b[38;5;124;43m'\u001b[39;49m\u001b[38;5;124;43minstalment\u001b[39;49m\u001b[38;5;124;43m'\u001b[39;49m\u001b[43m)\u001b[49m\n\u001b[0;32m      7\u001b[0m modified_df \u001b[38;5;241m=\u001b[39m dftransformer\u001b[38;5;241m.\u001b[39mreturn_dataframe()\n\u001b[0;32m      9\u001b[0m df_info \u001b[38;5;241m=\u001b[39m DataframeInfo(modified_df)\n",
      "File \u001b[1;32mc:\\Users\\clair\\AiCore_Course\\EDA Project\\db_utils_local.py:108\u001b[0m, in \u001b[0;36mDataFrameTransform.impute_term\u001b[1;34m(self, value_column, loan_amount, int_rate, instalment)\u001b[0m\n\u001b[0;32m    105\u001b[0m int_rate \u001b[38;5;241m=\u001b[39m pd\u001b[38;5;241m.\u001b[39mto_numeric(int_rate, errors\u001b[38;5;241m=\u001b[39m\u001b[38;5;124m'\u001b[39m\u001b[38;5;124mcoerce\u001b[39m\u001b[38;5;124m'\u001b[39m) \u001b[38;5;241m/\u001b[39m \u001b[38;5;241m100\u001b[39m  \u001b[38;5;66;03m# Convert annual interest rate to decimal\u001b[39;00m\n\u001b[0;32m    106\u001b[0m instalment \u001b[38;5;241m=\u001b[39m pd\u001b[38;5;241m.\u001b[39mto_numeric(instalment, errors\u001b[38;5;241m=\u001b[39m\u001b[38;5;124m'\u001b[39m\u001b[38;5;124mcoerce\u001b[39m\u001b[38;5;124m'\u001b[39m)\n\u001b[1;32m--> 108\u001b[0m loan_term_months \u001b[38;5;241m=\u001b[39m \u001b[38;5;28;43mround\u001b[39;49m\u001b[43m(\u001b[49m\u001b[38;5;241;43m-\u001b[39;49m\u001b[43m(\u001b[49m\u001b[43mmath\u001b[49m\u001b[38;5;241;43m.\u001b[39;49m\u001b[43mlog\u001b[49m\u001b[43m(\u001b[49m\u001b[38;5;241;43m1\u001b[39;49m\u001b[43m \u001b[49m\u001b[38;5;241;43m-\u001b[39;49m\u001b[43m \u001b[49m\u001b[43m(\u001b[49m\u001b[43m(\u001b[49m\u001b[43mloan_amount\u001b[49m\u001b[43m \u001b[49m\u001b[38;5;241;43m*\u001b[39;49m\u001b[43m \u001b[49m\u001b[43m(\u001b[49m\u001b[43m(\u001b[49m\u001b[43mint_rate\u001b[49m\u001b[43m)\u001b[49m\u001b[43m \u001b[49m\u001b[38;5;241;43m/\u001b[39;49m\u001b[43m \u001b[49m\u001b[38;5;241;43m12\u001b[39;49m\u001b[43m)\u001b[49m\u001b[43m)\u001b[49m\u001b[43m \u001b[49m\u001b[38;5;241;43m/\u001b[39;49m\u001b[43m \u001b[49m\u001b[43minstalment\u001b[49m\u001b[43m)\u001b[49m\u001b[43m)\u001b[49m\u001b[43m)\u001b[49m\u001b[43m \u001b[49m\u001b[38;5;241;43m/\u001b[39;49m\u001b[43m \u001b[49m\u001b[43m(\u001b[49m\u001b[43mmath\u001b[49m\u001b[38;5;241;43m.\u001b[39;49m\u001b[43mlog\u001b[49m\u001b[43m(\u001b[49m\u001b[38;5;241;43m1\u001b[39;49m\u001b[43m \u001b[49m\u001b[38;5;241;43m+\u001b[39;49m\u001b[43m \u001b[49m\u001b[43m(\u001b[49m\u001b[43m(\u001b[49m\u001b[43mint_rate\u001b[49m\u001b[43m)\u001b[49m\u001b[43m \u001b[49m\u001b[38;5;241;43m/\u001b[39;49m\u001b[43m \u001b[49m\u001b[38;5;241;43m12\u001b[39;49m\u001b[43m)\u001b[49m\u001b[43m)\u001b[49m\u001b[43m)\u001b[49m\u001b[43m)\u001b[49m\n\u001b[0;32m    109\u001b[0m \u001b[38;5;28mself\u001b[39m[value_column]\u001b[38;5;241m.\u001b[39mfillna(\u001b[38;5;28mint\u001b[39m(loan_term_months), inplace\u001b[38;5;241m=\u001b[39m\u001b[38;5;28;01mTrue\u001b[39;00m)\n\u001b[0;32m    110\u001b[0m \u001b[38;5;28;01mreturn\u001b[39;00m \u001b[38;5;28mself\u001b[39m[value_column]\n",
      "\u001b[1;31mValueError\u001b[0m: cannot convert float NaN to integer"
     ]
    }
   ],
   "source": [
    "from db_utils_local import DataFrameTransform\n",
    "\n",
    "dftransformer = DataFrameTransform(modified_df)\n",
    "\n",
    "dftransformer.impute_term('term','loan_amount','int_rate','instalment')\n",
    "\n",
    "modified_df = dftransformer.return_dataframe()\n",
    "\n",
    "df_info = DataframeInfo(modified_df)\n",
    "print(df_info.count_percent_null())\n",
    "# modified_df.to_csv('modified_loan_payments.csv', index=False)"
   ]
  }
 ],
 "metadata": {
  "kernelspec": {
   "display_name": "base",
   "language": "python",
   "name": "python3"
  },
  "language_info": {
   "codemirror_mode": {
    "name": "ipython",
    "version": 3
   },
   "file_extension": ".py",
   "mimetype": "text/x-python",
   "name": "python",
   "nbconvert_exporter": "python",
   "pygments_lexer": "ipython3",
   "version": "3.12.3"
  }
 },
 "nbformat": 4,
 "nbformat_minor": 2
}
